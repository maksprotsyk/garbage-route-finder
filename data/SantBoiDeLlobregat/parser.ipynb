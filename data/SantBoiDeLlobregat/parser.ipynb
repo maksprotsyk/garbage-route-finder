{
 "cells": [
  {
   "cell_type": "code",
   "execution_count": 9,
   "id": "9ba3a7f8",
   "metadata": {},
   "outputs": [],
   "source": [
    "import pandas as pd\n",
    "\n",
    "def create_containers(filename):\n",
    "    df = pd.read_csv(filename)\n",
    "    df.head()\n",
    "\n",
    "    containers = []\n",
    "    for row in df.iterrows():\n",
    "        latitude = row[1][\"LATITUD\"]\n",
    "        longitude = row[1][\"LONGITUD\"]\n",
    "        container_type = f\"{row[1]['TIPUS']}_Container\"\n",
    "        containers.append(\n",
    "            {\n",
    "                \"type\": \"RegularContainer\",\n",
    "                \"latitude\": float(latitude),\n",
    "                \"longitude\": float(longitude),\n",
    "                \"start\": 0,\n",
    "                \"finish\": 100000000\n",
    "            }\n",
    "        )    \n",
    "    return containers\n",
    "\n",
    "\n",
    "containers = create_containers(\"sant_boi.csv\")\n",
    "types = list(set([cont[\"type\"].split(\"_\")[0] for cont in containers]))\n",
    "container_names = list(set([cont[\"type\"] for cont in containers]))"
   ]
  },
  {
   "cell_type": "code",
   "execution_count": 10,
   "id": "084c8924",
   "metadata": {},
   "outputs": [
    {
     "data": {
      "text/plain": [
       "1723"
      ]
     },
     "execution_count": 10,
     "metadata": {},
     "output_type": "execute_result"
    }
   ],
   "source": [
    "len(containers)"
   ]
  },
  {
   "cell_type": "code",
   "execution_count": 11,
   "id": "75d88592",
   "metadata": {},
   "outputs": [
    {
     "data": {
      "text/plain": [
       "['RegularContainer']"
      ]
     },
     "execution_count": 11,
     "metadata": {},
     "output_type": "execute_result"
    }
   ],
   "source": [
    "types"
   ]
  },
  {
   "cell_type": "code",
   "execution_count": 12,
   "id": "eab3895a",
   "metadata": {},
   "outputs": [
    {
     "name": "stdout",
     "output_type": "stream",
     "text": [
      "(41.350179, 2.03447)\n"
     ]
    }
   ],
   "source": [
    "import random\n",
    "random.seed(0)\n",
    "\n",
    "def get_random_location(containers):\n",
    "    index = random.randrange(0, len(containers) - 1)\n",
    "    res = containers[index][\"latitude\"], containers[index][\"longitude\"]\n",
    "    del containers[index]\n",
    "    return res\n",
    "trucks_location = get_random_location(containers)\n",
    "print(trucks_location)\n",
    "landfill_location = (41.424511,2.045152)"
   ]
  },
  {
   "cell_type": "code",
   "execution_count": 13,
   "id": "0d5d4e15",
   "metadata": {},
   "outputs": [],
   "source": [
    "import json\n",
    "truck_types = [\n",
    "    {\n",
    "      \"type\": \"RegularTruck1\",\n",
    "      \"speed\": 150,\n",
    "      \"fuel_consumption\": 7,\n",
    "      \"fuel_capacity\": 150,\n",
    "      \"capacities\": {\"Orgànica\": 100, \"Resta\": 200},\n",
    "      \"unloading_time\": 15\n",
    "    },\n",
    "    {\n",
    "      \"type\": \"RegularTruck2\",\n",
    "      \"speed\": 150,\n",
    "      \"fuel_consumption\": 7,\n",
    "      \"fuel_capacity\": 150,\n",
    "      \"capacities\": {\"Paper i cartró\": 100, \"Envasos lleugers\": 200},\n",
    "      \"unloading_time\": 15\n",
    "    },\n",
    "    {\n",
    "      \"type\": \"BigTruck\",\n",
    "      \"speed\": 10,\n",
    "      \"fuel_consumption\": 0.5,\n",
    "      \"fuel_capacity\": 50000,\n",
    "      \"capacities\": {\"Vidre\": 200, \"Resta\": 200},\n",
    "      \"unloading_time\": 15\n",
    "    },\n",
    "]\n",
    "\n",
    "\n",
    "container_types = [\n",
    "    {\n",
    "        \"capacity\": 10,\n",
    "        \"processing_time\": 10,\n",
    "        \"garbage_type\": types[i],\n",
    "        \"type\": container_names[i]\n",
    "    }\n",
    "    \n",
    "    for i in range(len(types))\n",
    "]\n",
    "\n",
    "trucks = []\n",
    "for i in range(10):\n",
    "        trucks.append(\n",
    "            {\n",
    "                \"type\": \"BigTruck\",\n",
    "                \"latitude\": trucks_location[0],\n",
    "                \"longitude\": trucks_location[1],\n",
    "                \"start\": 0,\n",
    "                \"finish\": 100000000\n",
    "            }\n",
    "        )\n",
    "landfills = [\n",
    "    {\n",
    "        \"latitude\": landfill_location[0],\n",
    "        \"longitude\": landfill_location[1],\n",
    "        \"start\": 0,\n",
    "        \"finish\": 100000000,\n",
    "        \"max_trucks\": 100\n",
    "    }\n",
    "]\n",
    "data = {\"containers\": containers, \"description\": \"Netherland\", \"trucks\": trucks, \"landfills\": landfills}\n",
    "json_string = json.dumps(data, indent=4)\n",
    "with open(\"input.json\", \"w\") as f:\n",
    "    f.write(json_string)"
   ]
  },
  {
   "cell_type": "code",
   "execution_count": 8,
   "id": "aeb396bc",
   "metadata": {},
   "outputs": [],
   "source": [
    "config_data = {\n",
    "    \"garbage_types\": types,\n",
    "    \"container_types\": container_types,\n",
    "    \"truck_types\": truck_types\n",
    "}\n",
    "json_string = json.dumps(config_data, indent=4)\n",
    "with open(\"config.json\", \"w\") as f:\n",
    "    f.write(json_string)"
   ]
  },
  {
   "cell_type": "code",
   "execution_count": 9,
   "id": "56fb25fe",
   "metadata": {},
   "outputs": [
    {
     "name": "stdout",
     "output_type": "stream",
     "text": [
      "[{'type': 'RegularTruck1', 'speed': 150, 'fuel_consumption': 7, 'fuel_capacity': 150, 'capacities': {'Orgànica': 100, 'Resta': 200}, 'unloading_time': 15}, {'type': 'RegularTruck2', 'speed': 150, 'fuel_consumption': 7, 'fuel_capacity': 150, 'capacities': {'Paper i cartró': 100, 'Envasos lleugers': 200}, 'unloading_time': 15}, {'type': 'BigTruck', 'speed': 10, 'fuel_consumption': 0.5, 'fuel_capacity': 50000, 'capacities': {'Vidre': 200, 'Resta': 200}, 'unloading_time': 15}]\n"
     ]
    }
   ],
   "source": [
    "print(truck_types)"
   ]
  },
  {
   "cell_type": "code",
   "execution_count": null,
   "id": "fdbb2688",
   "metadata": {},
   "outputs": [],
   "source": []
  }
 ],
 "metadata": {
  "kernelspec": {
   "display_name": "Python 3 (ipykernel)",
   "language": "python",
   "name": "python3"
  },
  "language_info": {
   "codemirror_mode": {
    "name": "ipython",
    "version": 3
   },
   "file_extension": ".py",
   "mimetype": "text/x-python",
   "name": "python",
   "nbconvert_exporter": "python",
   "pygments_lexer": "ipython3",
   "version": "3.9.16"
  }
 },
 "nbformat": 4,
 "nbformat_minor": 5
}
